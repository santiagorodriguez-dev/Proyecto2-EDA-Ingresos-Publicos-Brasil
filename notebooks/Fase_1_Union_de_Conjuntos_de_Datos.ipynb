{
 "cells": [
  {
   "cell_type": "code",
   "execution_count": null,
   "metadata": {},
   "outputs": [],
   "source": [
    "import sys\n",
    "import pandas as pd # type: ignore\n",
    "import numpy as np # type: ignore\n",
    "import os\n",
    "sys.path.append(\"../\")\n",
    "\n",
    "from src import soporte_load_data as sp\n",
    "\n",
    "pd.set_option('display.max_columns', None) # para poder visualizar todas las columnas de los DataFrames"
   ]
  },
  {
   "cell_type": "markdown",
   "metadata": {},
   "source": [
    "1. Cargamos todos lis ficheros dinamicamente."
   ]
  },
  {
   "cell_type": "code",
   "execution_count": null,
   "metadata": {},
   "outputs": [],
   "source": [
    "df_all_data_list = sp.load_all_data()\n",
    "print(f\"ficheros cargados: {len(df_all_data_list)}\")"
   ]
  },
  {
   "cell_type": "markdown",
   "metadata": {},
   "source": [
    "2. Unimos los dataframe generados anteriormente y lo guardamos a un csv."
   ]
  },
  {
   "cell_type": "code",
   "execution_count": null,
   "metadata": {},
   "outputs": [],
   "source": [
    "df_all_data_union = sp.union_all_data(df_all_data_list)\n",
    "print(f\"numero de registros: {df_all_data_union.shape[0]} , numero de columnas: {df_all_data_union.shape[1]}\")\n",
    "df_all_data_union.head(3)\n"
   ]
  },
  {
   "cell_type": "markdown",
   "metadata": {},
   "source": [
    "3. salvamos el fichero con todos los resultados pra su posterior limpieza"
   ]
  },
  {
   "cell_type": "code",
   "execution_count": 4,
   "metadata": {},
   "outputs": [],
   "source": [
    "sp.save_to_file(df_all_data_union,\"datos-completos-2013-2021.csv\")"
   ]
  },
  {
   "cell_type": "markdown",
   "metadata": {},
   "source": [
    "checkeamos datos de los años, rellenamos los años que faltan y pasamos a enteros:"
   ]
  },
  {
   "cell_type": "code",
   "execution_count": 5,
   "metadata": {},
   "outputs": [],
   "source": [
    "#df_2021.dtypes\n",
    "#df_2021[\"ANO EXERCÍCIO\"].fillna(2021, inplace=True)\n",
    "#df_2021[\"ANO EXERCÍCIO\"] = df_2021[\"ANO EXERCÍCIO\"].astype(int)\n",
    "#filtro = df_2021[\"ANO EXERCÍCIO\"].notnull().reset_index()\n",
    "\n",
    "#df_2021.info()\n",
    "#df_2021[df_2021.notnull().reset_index()]\n",
    "#df_2021.describe()\n",
    "#df_2021.head(5)\n"
   ]
  }
 ],
 "metadata": {
  "kernelspec": {
   "display_name": "Python 3",
   "language": "python",
   "name": "python3"
  },
  "language_info": {
   "codemirror_mode": {
    "name": "ipython",
    "version": 3
   },
   "file_extension": ".py",
   "mimetype": "text/x-python",
   "name": "python",
   "nbconvert_exporter": "python",
   "pygments_lexer": "ipython3",
   "version": "3.12.5"
  }
 },
 "nbformat": 4,
 "nbformat_minor": 2
}
