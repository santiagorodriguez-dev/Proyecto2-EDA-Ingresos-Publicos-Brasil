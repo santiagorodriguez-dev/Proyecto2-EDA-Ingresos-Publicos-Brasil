{
 "cells": [
  {
   "cell_type": "code",
   "execution_count": 1,
   "metadata": {},
   "outputs": [],
   "source": [
    "import sys\n",
    "import pandas as pd # type: ignore\n",
    "import numpy as np # type: ignore\n",
    "import matplotlib.pyplot as plt # type: ignore\n",
    "import seaborn as sns # type: ignore\n",
    "\n",
    "sys.path.append(\"../\")\n",
    "from src import soporte_limpieza as sp_lim\n",
    "\n",
    "pd.set_option('display.max_columns', None) # para poder visualizar todas las columnas de los DataFrames\n",
    "pd.set_option('display.float_format', lambda x: '%.2f' % x)\n",
    "\n",
    "path_ficheros_salida = '../datos/output/'\n",
    "fichero = 'datos-limpios-2013-2021.csv'\n",
    "\n",
    "df = pd.read_csv(path_ficheros_salida + fichero, sep = ';', index_col = 0)"
   ]
  },
  {
   "cell_type": "markdown",
   "metadata": {},
   "source": [
    "convertimos la fecha, ya que viene como string"
   ]
  },
  {
   "cell_type": "code",
   "execution_count": 2,
   "metadata": {},
   "outputs": [],
   "source": [
    "df = sp_lim.l_limpieza_conversion_fecha(df)"
   ]
  },
  {
   "cell_type": "code",
   "execution_count": null,
   "metadata": {},
   "outputs": [],
   "source": [
    "df.head(1)"
   ]
  },
  {
   "cell_type": "code",
   "execution_count": null,
   "metadata": {},
   "outputs": [],
   "source": [
    "df.dtypes"
   ]
  },
  {
   "cell_type": "code",
   "execution_count": null,
   "metadata": {},
   "outputs": [],
   "source": [
    "df.describe(include = \"object\").T"
   ]
  },
  {
   "cell_type": "code",
   "execution_count": null,
   "metadata": {},
   "outputs": [],
   "source": [
    "df.describe().T"
   ]
  },
  {
   "cell_type": "markdown",
   "metadata": {},
   "source": [
    "# objetivo\n",
    "Desviaciones entre lo previsto y lo recaudado: Determinar en qué categorías económicas o tipos de ingresos las diferencias son más pronunciadas.\n",
    "\n",
    "Evolución temporal de la recaudación: Identificar cómo han cambiado las previsiones y recaudaciones año a año, y si existen patrones temporales, como meses específicos donde hay mayores discrepancias.\n",
    "\n",
    "Rendimiento por órgano y unidad gestora: Evaluar qué órganos o unidades gestoras son más eficientes en términos de alcanzar las metas de recaudación y cuáles presentan consistentemente una baja ejecución."
   ]
  },
  {
   "cell_type": "code",
   "execution_count": null,
   "metadata": {},
   "outputs": [],
   "source": []
  },
  {
   "cell_type": "markdown",
   "metadata": {},
   "source": [
    "##### Distribución de Ingresos por Categoría Económica:"
   ]
  },
  {
   "cell_type": "markdown",
   "metadata": {},
   "source": [
    "1.  Analizar las categorías de ingresos más significativas y su participación en los ingresos totales."
   ]
  },
  {
   "cell_type": "code",
   "execution_count": null,
   "metadata": {},
   "outputs": [],
   "source": [
    "suma_total = df['VALOR_REALIZADO'].sum()\n",
    "df_categorias_ingresos = df.groupby('CATEGORIA_ECONOMICA')['VALOR_REALIZADO'].sum().reset_index()\n",
    "df_categorias_ingresos[\"%\"] = np.round(df_categorias_ingresos['VALOR_REALIZADO'] / suma_total * 100, 2)\n",
    "df_categorias = df_categorias_ingresos.sort_values(\"%\",ascending=False)\n",
    "display(df_categorias)"
   ]
  },
  {
   "cell_type": "markdown",
   "metadata": {},
   "source": [
    "2.  Calcular la diferencia promedio entre ingresos previstos y realizados por cada categoría."
   ]
  },
  {
   "cell_type": "code",
   "execution_count": null,
   "metadata": {},
   "outputs": [],
   "source": [
    "df_categorias_ingresos_promedio = df.groupby(['CATEGORIA_ECONOMICA'])[['VALOR_PREVISTO_ACTUALIZADO', 'VALOR_REALIZADO' ]].mean()\n",
    "df_categorias_ingresos_promedio['DIFERENCIA_PROMEDIO'] = np.round(df_categorias_ingresos_promedio['VALOR_REALIZADO'] - df_categorias_ingresos_promedio['VALOR_PREVISTO_ACTUALIZADO'])\n",
    "df_categorias_ingresos_promedio = df_categorias_ingresos_promedio.reset_index()\n",
    "display(df_categorias_ingresos_promedio)"
   ]
  },
  {
   "cell_type": "markdown",
   "metadata": {},
   "source": [
    "2.A  Rendimiento organo"
   ]
  },
  {
   "cell_type": "code",
   "execution_count": null,
   "metadata": {},
   "outputs": [],
   "source": [
    "df_temp_2a = df\n",
    "df_temp_2a['ANIO_LANZAMIENTO'] = pd.to_datetime(df_temp_2a['FECHA_LANZAMIENTO']).dt.year\n",
    "\n",
    "df_organo_ingresos_promedio = df_temp_2a.groupby(['NOMBRE_DEL_ORGANO'])[['VALOR_PREVISTO_ACTUALIZADO', 'VALOR_REALIZADO' ]].mean()\n",
    "df_organo_ingresos_promedio['DIFERENCIA_PROMEDIO'] = np.round(df_organo_ingresos_promedio['VALOR_REALIZADO'] - df_organo_ingresos_promedio['VALOR_PREVISTO_ACTUALIZADO'])\n",
    "df_organo_ingresos_promedio = df_organo_ingresos_promedio.reset_index()\n",
    "#df_organo_ingresos_promedio['ANIO_LANZAMIENTO'] = df_organo_ingresos_promedio['ANIO_LANZAMIENTO'].astype(int)\n",
    "df_organo_ingresos_promedio = df_organo_ingresos_promedio.nsmallest(13, 'DIFERENCIA_PROMEDIO')\n",
    "df_organo_ingresos_promedio.head(1)"
   ]
  },
  {
   "cell_type": "markdown",
   "metadata": {},
   "source": [
    "##### Análisis Temporal:"
   ]
  },
  {
   "cell_type": "markdown",
   "metadata": {},
   "source": [
    "1.  Evaluar las tendencias a lo largo del tiempo, por ejemplo, cómo cambian los ingresos realizados de un mes a otro o de un año a otro.\n",
    "    "
   ]
  },
  {
   "cell_type": "code",
   "execution_count": null,
   "metadata": {},
   "outputs": [],
   "source": [
    "df_temp = df\n",
    "df_temp['ANIO_LANZAMIENTO'] = pd.to_datetime(df_temp['FECHA_LANZAMIENTO']).dt.year\n",
    "df_ingresos_tiempo = df_temp.groupby(['ANIO_LANZAMIENTO','CATEGORIA_ECONOMICA'])[['VALOR_REALIZADO']].sum().reset_index()\n",
    "df_ingresos_tiempo['ANIO_LANZAMIENTO'] = df_ingresos_tiempo['ANIO_LANZAMIENTO'].astype(int)\n",
    "df_ingresos_tiempo.head(1)"
   ]
  },
  {
   "cell_type": "code",
   "execution_count": null,
   "metadata": {},
   "outputs": [],
   "source": [
    "df_temp_pre = df\n",
    "df_temp_pre['ANIO_LANZAMIENTO'] = pd.to_datetime(df_temp_pre['FECHA_LANZAMIENTO']).dt.year\n",
    "df_ingresos_tiempo_pre = df_temp_pre.groupby(['ANIO_LANZAMIENTO','CATEGORIA_ECONOMICA'])[['VALOR_PREVISTO_ACTUALIZADO']].sum().reset_index()\n",
    "df_ingresos_tiempo_pre['ANIO_LANZAMIENTO'] = df_ingresos_tiempo_pre['ANIO_LANZAMIENTO'].astype(int)\n",
    "df_ingresos_tiempo_pre.head(1)"
   ]
  },
  {
   "cell_type": "markdown",
   "metadata": {},
   "source": [
    "2.  Identificación de Discrepancias:\n",
    "    Investigar las categorías con mayor diferencia entre lo previsto y lo realizado, identificando patrones en la subejecución o sobre ejecución."
   ]
  },
  {
   "cell_type": "code",
   "execution_count": null,
   "metadata": {},
   "outputs": [],
   "source": [
    "df_temp_dis = df\n",
    "df_temp_dis['ANIO_LANZAMIENTO'] = pd.to_datetime(df_temp_dis['FECHA_LANZAMIENTO']).dt.year\n",
    "df_categorias_ingresos_promedio_anios = df_temp_dis.groupby(['ANIO_LANZAMIENTO','CATEGORIA_ECONOMICA'])[['VALOR_PREVISTO_ACTUALIZADO', 'VALOR_REALIZADO' ]].mean()\n",
    "df_categorias_ingresos_promedio_anios['DIFERENCIA_PROMEDIO'] = np.round(df_categorias_ingresos_promedio_anios['VALOR_REALIZADO'] - df_categorias_ingresos_promedio_anios['VALOR_PREVISTO_ACTUALIZADO'])\n",
    "df_categorias_ingresos_promedio_anios = df_categorias_ingresos_promedio_anios.reset_index()\n",
    "df_categorias_ingresos_promedio_anios['ANIO_LANZAMIENTO'] = df_categorias_ingresos_promedio_anios['ANIO_LANZAMIENTO'].astype(int)\n",
    "df_categorias_ingresos_promedio_anios = df_categorias_ingresos_promedio_anios.reset_index()\n",
    "\n",
    "df_categorias_ingresos_promedio_anios.sample(1)\n"
   ]
  },
  {
   "cell_type": "markdown",
   "metadata": {},
   "source": [
    "## Fase 4: Visualización de Datos\n",
    "\n",
    "1. **Gráficos de Barras y Líneas:**\n",
    "\n",
    "   - Crear gráficos que muestren la comparación entre ingresos previstos, lanzados y realizados para cada categoría.\n",
    "\n",
    "   - Graficar la evolución temporal de los ingresos realizados y previstos."
   ]
  },
  {
   "cell_type": "code",
   "execution_count": null,
   "metadata": {},
   "outputs": [],
   "source": [
    "plt.figure(figsize = (7,5))\n",
    "\n",
    "sns.barplot(y=\"CATEGORIA_ECONOMICA\", \n",
    "            hue=\"%\",\n",
    "            x=\"%\",\n",
    "            data=df_categorias,\n",
    "            palette=\"tab10\",\n",
    "        )\n",
    "\n",
    "plt.title(\"Porcentaje de ingreso por Categoria\")\n",
    "plt.xlabel(\"\")\n",
    "plt.ylabel(\"\")\n",
    "plt.xticks(rotation=0)\n",
    "plt.yticks()\n",
    "plt.show()"
   ]
  },
  {
   "cell_type": "code",
   "execution_count": null,
   "metadata": {},
   "outputs": [],
   "source": [
    "plt.figure(figsize = (8,5))\n",
    "\n",
    "sns.barplot(y=\"CATEGORIA_ECONOMICA\", \n",
    "            hue=\"DIFERENCIA_PROMEDIO\",\n",
    "            x=\"DIFERENCIA_PROMEDIO\",\n",
    "            data=df_categorias_ingresos_promedio,\n",
    "            palette=\"tab10\",\n",
    "        )\n",
    "\n",
    "plt.title(\"Diferencia promedio entre ingresos previstos y realizados por categorias\")\n",
    "plt.xlabel(\"variacion\")\n",
    "plt.ylabel(\"\")\n",
    "plt.xticks(rotation=0)\n",
    "plt.yticks()\n",
    "plt.show()"
   ]
  },
  {
   "cell_type": "code",
   "execution_count": null,
   "metadata": {},
   "outputs": [],
   "source": [
    "plt.figure(figsize = (13,6))\n",
    "\n",
    "sns.pointplot(\n",
    "            x=\"ANIO_LANZAMIENTO\",\n",
    "            y=\"VALOR_REALIZADO\",\n",
    "            data=df_ingresos_tiempo,\n",
    "            palette=\"tab10\",\n",
    "            hue=\"CATEGORIA_ECONOMICA\",\n",
    "        )\n",
    "\n",
    "plt.title(\"Evolucion de ingresos Realizados por categorias\")\n",
    "plt.xlabel(\"\")\n",
    "plt.ylabel(\"Ingresos(M)\")\n",
    "plt.xticks(rotation=90)\n",
    "plt.show()"
   ]
  },
  {
   "cell_type": "code",
   "execution_count": null,
   "metadata": {},
   "outputs": [],
   "source": [
    "plt.figure(figsize = (13,6))\n",
    "\n",
    "sns.pointplot(\n",
    "            x=\"ANIO_LANZAMIENTO\",\n",
    "            y=\"VALOR_PREVISTO_ACTUALIZADO\",\n",
    "            data=df_ingresos_tiempo_pre,\n",
    "            palette=\"tab10\",\n",
    "            hue=\"CATEGORIA_ECONOMICA\",\n",
    "        )\n",
    "\n",
    "plt.title(\"Evolucion de ingresos Previstos por categorias\")\n",
    "plt.xlabel(\"\")\n",
    "plt.ylabel(\"Ingresos(M)\")\n",
    "plt.xticks(rotation=90)\n",
    "plt.show()"
   ]
  },
  {
   "cell_type": "code",
   "execution_count": null,
   "metadata": {},
   "outputs": [],
   "source": [
    "plt.figure(figsize = (13,10))\n",
    "\n",
    "sns.barplot(\n",
    "            x=\"DIFERENCIA_PROMEDIO\",\n",
    "            y=\"NOMBRE_DEL_ORGANO\", \n",
    "            data=df_organo_ingresos_promedio,\n",
    "            palette=\"tab10\",\n",
    "            hue=\"NOMBRE_DEL_ORGANO\",\n",
    "        )\n",
    "\n",
    "plt.title(\"Diferencia promedio de previsto, ingresado por Organo\")\n",
    "plt.xlabel(\"\")\n",
    "plt.ylabel(\"\")\n",
    "plt.xticks(rotation=90)\n",
    "plt.show()"
   ]
  },
  {
   "cell_type": "code",
   "execution_count": null,
   "metadata": {},
   "outputs": [],
   "source": [
    "plt.figure(figsize = (11,6))\n",
    "\n",
    "sns.scatterplot(\n",
    "            x=\"ANIO_LANZAMIENTO\",\n",
    "            y=\"DIFERENCIA_PROMEDIO\",\n",
    "            data=df_categorias_ingresos_promedio_anios,\n",
    "            palette=\"tab10\",\n",
    "            hue=\"CATEGORIA_ECONOMICA\",\n",
    "        )\n",
    "\n",
    "plt.title(\"Evolucion de diferencia de promedios por categorias y años\")\n",
    "plt.xlabel(\"\")\n",
    "plt.ylabel(\"Promedio\")\n",
    "plt.xticks(rotation=0)\n",
    "plt.show()"
   ]
  }
 ],
 "metadata": {
  "kernelspec": {
   "display_name": "Python 3",
   "language": "python",
   "name": "python3"
  },
  "language_info": {
   "codemirror_mode": {
    "name": "ipython",
    "version": 3
   },
   "file_extension": ".py",
   "mimetype": "text/x-python",
   "name": "python",
   "nbconvert_exporter": "python",
   "pygments_lexer": "ipython3",
   "version": "3.12.5"
  }
 },
 "nbformat": 4,
 "nbformat_minor": 2
}
