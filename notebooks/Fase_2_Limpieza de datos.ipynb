{
 "cells": [
  {
   "cell_type": "code",
   "execution_count": 1,
   "metadata": {},
   "outputs": [],
   "source": [
    "import sys\n",
    "import pandas as pd # type: ignore\n",
    "import numpy as np # type: ignore\n",
    "\n",
    "sys.path.append(\"../\")\n",
    "\n",
    "from src import soporte_load_data as sp\n",
    "\n",
    "pd.set_option('display.max_columns', None) # para poder visualizar todas las columnas de los DataFrames"
   ]
  },
  {
   "cell_type": "markdown",
   "metadata": {},
   "source": [
    "1. Limpieza del dataFrame."
   ]
  },
  {
   "cell_type": "code",
   "execution_count": 6,
   "metadata": {},
   "outputs": [],
   "source": [
    "#df_2021.dtypes\n",
    "#df_2021[\"ANO EXERCÍCIO\"].fillna(2021, inplace=True)\n",
    "#df_2021[\"ANO EXERCÍCIO\"] = df_2021[\"ANO EXERCÍCIO\"].astype(int)\n",
    "#filtro = df_2021[\"ANO EXERCÍCIO\"].notnull().reset_index()\n",
    "\n",
    "#df_2021.info()\n",
    "#df_2021[df_2021.notnull().reset_index()]\n",
    "#df_2021.describe()\n",
    "#df_2021.head(5)"
   ]
  }
 ],
 "metadata": {
  "kernelspec": {
   "display_name": "Python 3",
   "language": "python",
   "name": "python3"
  },
  "language_info": {
   "codemirror_mode": {
    "name": "ipython",
    "version": 3
   },
   "file_extension": ".py",
   "mimetype": "text/x-python",
   "name": "python",
   "nbconvert_exporter": "python",
   "pygments_lexer": "ipython3",
   "version": "3.12.5"
  }
 },
 "nbformat": 4,
 "nbformat_minor": 2
}
