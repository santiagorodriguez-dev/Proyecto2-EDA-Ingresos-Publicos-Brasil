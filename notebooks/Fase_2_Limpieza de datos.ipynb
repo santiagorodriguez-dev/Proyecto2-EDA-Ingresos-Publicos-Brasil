{
 "cells": [
  {
   "cell_type": "code",
   "execution_count": 1,
   "metadata": {},
   "outputs": [],
   "source": [
    "import sys\n",
    "import pandas as pd # type: ignore\n",
    "\n",
    "sys.path.append(\"../\")\n",
    "\n",
    "from src import soporte_limpieza as sp_lim\n",
    "from src import soporte_load_data as sp\n",
    "\n",
    "pd.set_option('display.max_columns', None) # para poder visualizar todas las columnas de los DataFrames\n",
    "\n",
    "path_ficheros_salida = '../datos/output/'\n",
    "fichero = 'datos-completos-2013-2021.csv'\n",
    "\n",
    "df = pd.read_csv(path_ficheros_salida + fichero, sep = ';', index_col = 0)"
   ]
  },
  {
   "cell_type": "code",
   "execution_count": null,
   "metadata": {},
   "outputs": [],
   "source": [
    "df.head(1)"
   ]
  },
  {
   "cell_type": "markdown",
   "metadata": {},
   "source": [
    "Antes de limpeza de datos"
   ]
  },
  {
   "cell_type": "code",
   "execution_count": null,
   "metadata": {},
   "outputs": [],
   "source": [
    "df.dtypes"
   ]
  },
  {
   "cell_type": "markdown",
   "metadata": {},
   "source": [
    "1. Limpieza del dataFrame."
   ]
  },
  {
   "cell_type": "code",
   "execution_count": 4,
   "metadata": {},
   "outputs": [],
   "source": [
    "df_limpio = sp_lim.l_cambio_nombre_columnas(df)"
   ]
  },
  {
   "cell_type": "code",
   "execution_count": 5,
   "metadata": {},
   "outputs": [],
   "source": [
    "df_limpio = sp_lim.l_limpieza_de_datos(df_limpio)"
   ]
  },
  {
   "cell_type": "code",
   "execution_count": 6,
   "metadata": {},
   "outputs": [],
   "source": [
    "col1 = 'CODIGO_ORGANIZACION_SUPERIOR'\n",
    "col2 = 'NOMBRE_ORGANIZACION_SUPERIOR'\n",
    "\n",
    "df_limpio = sp_lim.l_rellenado_faltante(df_limpio,col1, col2, True)"
   ]
  },
  {
   "cell_type": "code",
   "execution_count": 7,
   "metadata": {},
   "outputs": [],
   "source": [
    "col1 = 'NOMBRE_ORGANIZACION_SUPERIOR'\n",
    "col2 = 'CODIGO_ORGANIZACION_SUPERIOR'\n",
    "\n",
    "df_limpio = sp_lim.l_rellenado_faltante(df_limpio,col1, col2, False)"
   ]
  },
  {
   "cell_type": "code",
   "execution_count": 8,
   "metadata": {},
   "outputs": [],
   "source": [
    "col1 = 'CODIGO_DE_ORGANO'\n",
    "col2 = 'NOMBRE_DEL_ORGANO'\n",
    "\n",
    "df_limpio = sp_lim.l_rellenado_faltante(df_limpio,col1, col2, True)"
   ]
  },
  {
   "cell_type": "code",
   "execution_count": 9,
   "metadata": {},
   "outputs": [],
   "source": [
    "col1 = 'NOMBRE_DEL_ORGANO'\n",
    "col2 = 'CODIGO_DE_ORGANO'\n",
    "\n",
    "df_limpio = sp_lim.l_rellenado_faltante(df_limpio,col1, col2, False)"
   ]
  },
  {
   "cell_type": "code",
   "execution_count": 10,
   "metadata": {},
   "outputs": [],
   "source": [
    "col1 = 'CODIGO_DE_UNIDAD_GESTORA'\n",
    "col2 = 'NOMBRE_UNIDAD_GESTORA'\n",
    "\n",
    "df_limpio = sp_lim.l_rellenado_faltante(df_limpio,col1, col2, True)"
   ]
  },
  {
   "cell_type": "code",
   "execution_count": 11,
   "metadata": {},
   "outputs": [],
   "source": [
    "col1 = 'NOMBRE_UNIDAD_GESTORA'\n",
    "col2 = 'CODIGO_DE_UNIDAD_GESTORA'\n",
    "\n",
    "df_limpio = sp_lim.l_rellenado_faltante(df_limpio,col1, col2, False)"
   ]
  },
  {
   "cell_type": "code",
   "execution_count": 12,
   "metadata": {},
   "outputs": [],
   "source": [
    "df_limpio = sp_lim.l_limpieza_de_datos_final(df_limpio)"
   ]
  },
  {
   "cell_type": "code",
   "execution_count": null,
   "metadata": {},
   "outputs": [],
   "source": [
    "df_limpio.sample(1)"
   ]
  },
  {
   "cell_type": "markdown",
   "metadata": {},
   "source": [
    "Despues de limpieza y conversion de tipos"
   ]
  },
  {
   "cell_type": "code",
   "execution_count": null,
   "metadata": {},
   "outputs": [],
   "source": [
    "df_limpio.dtypes"
   ]
  },
  {
   "cell_type": "markdown",
   "metadata": {},
   "source": [
    "verificamos duplicados"
   ]
  },
  {
   "cell_type": "code",
   "execution_count": null,
   "metadata": {},
   "outputs": [],
   "source": [
    "df_limpio[df_limpio.duplicated()]"
   ]
  },
  {
   "cell_type": "code",
   "execution_count": null,
   "metadata": {},
   "outputs": [],
   "source": [
    "df_limpio.head(2)"
   ]
  },
  {
   "cell_type": "code",
   "execution_count": null,
   "metadata": {},
   "outputs": [],
   "source": [
    "df_limpio.describe(include = \"object\").T"
   ]
  },
  {
   "cell_type": "code",
   "execution_count": null,
   "metadata": {},
   "outputs": [],
   "source": [
    "df_limpio.describe().T"
   ]
  },
  {
   "cell_type": "code",
   "execution_count": null,
   "metadata": {},
   "outputs": [],
   "source": [
    "df_limpio[df_limpio['CATEGORIA_ECONOMICA'].isnull()]"
   ]
  },
  {
   "cell_type": "code",
   "execution_count": null,
   "metadata": {},
   "outputs": [],
   "source": [
    "df_limpio[df_limpio['ORIGEN_INGRESO'].isnull()]"
   ]
  },
  {
   "cell_type": "code",
   "execution_count": null,
   "metadata": {},
   "outputs": [],
   "source": [
    "df_limpio[df_limpio['TIPO_INGRESO'].isnull()]"
   ]
  },
  {
   "cell_type": "code",
   "execution_count": null,
   "metadata": {},
   "outputs": [],
   "source": [
    "df_limpio[df_limpio['DEPARTAMENTO'].isnull()]"
   ]
  },
  {
   "cell_type": "markdown",
   "metadata": {},
   "source": [
    "Guardamos el resultado en un csv"
   ]
  },
  {
   "cell_type": "code",
   "execution_count": 23,
   "metadata": {},
   "outputs": [],
   "source": [
    "sp.save_to_file(df_limpio,\"datos-limpios-2013-2021.csv\")"
   ]
  }
 ],
 "metadata": {
  "kernelspec": {
   "display_name": "Python 3",
   "language": "python",
   "name": "python3"
  },
  "language_info": {
   "codemirror_mode": {
    "name": "ipython",
    "version": 3
   },
   "file_extension": ".py",
   "mimetype": "text/x-python",
   "name": "python",
   "nbconvert_exporter": "python",
   "pygments_lexer": "ipython3",
   "version": "3.12.5"
  }
 },
 "nbformat": 4,
 "nbformat_minor": 2
}
