{
 "cells": [
  {
   "cell_type": "code",
   "execution_count": 1,
   "metadata": {},
   "outputs": [],
   "source": [
    "import sys\n",
    "import pandas as pd # type: ignore\n",
    "\n",
    "sys.path.append(\"../\")\n",
    "\n",
    "from src import soporte_load_data as sp\n",
    "\n",
    "pd.set_option('display.max_columns', None) # para poder visualizar todas las columnas de los DataFrames"
   ]
  },
  {
   "cell_type": "markdown",
   "metadata": {},
   "source": [
    "1. Cargamos todos lis ficheros dinamicamente."
   ]
  },
  {
   "cell_type": "code",
   "execution_count": null,
   "metadata": {},
   "outputs": [],
   "source": [
    "df_all_data_list = sp.load_all_data()\n",
    "print(f\"ficheros cargados: {len(df_all_data_list)}\")"
   ]
  },
  {
   "cell_type": "markdown",
   "metadata": {},
   "source": [
    "2. verificamos que los dataframes tienen todas las columnas igules"
   ]
  },
  {
   "cell_type": "code",
   "execution_count": 3,
   "metadata": {},
   "outputs": [],
   "source": [
    "result_control_columnas = sp.check_columns_equal(df_all_data_list)"
   ]
  },
  {
   "cell_type": "markdown",
   "metadata": {},
   "source": [
    "3. Unimos los dataframe generados anteriormente y lo guardamos a un csv."
   ]
  },
  {
   "cell_type": "code",
   "execution_count": null,
   "metadata": {},
   "outputs": [],
   "source": [
    "if result_control_columnas == True:\n",
    "    df_all_data_union = sp.union_all_data(df_all_data_list)\n",
    "    print(f\"numero de registros: {df_all_data_union.shape[0]} , numero de columnas: {df_all_data_union.shape[1]}\")\n",
    "    df_all_data_union.head(3)\n",
    "else:\n",
    "    print(\"No se puede hacer la union, hay ficheros que no contiene las mismas columnas\")\n"
   ]
  },
  {
   "cell_type": "markdown",
   "metadata": {},
   "source": [
    "4. salvamos el fichero con todos los resultados pra su posterior limpieza"
   ]
  },
  {
   "cell_type": "code",
   "execution_count": 5,
   "metadata": {},
   "outputs": [],
   "source": [
    "if result_control_columnas == True:\n",
    "    sp.save_to_file(df_all_data_union,\"datos-completos-2013-2021.csv\")\n",
    "else:\n",
    "    print(\"No se guarda a fichero, ya que no se ha podido hacer la union previa\")"
   ]
  }
 ],
 "metadata": {
  "kernelspec": {
   "display_name": "Python 3",
   "language": "python",
   "name": "python3"
  },
  "language_info": {
   "codemirror_mode": {
    "name": "ipython",
    "version": 3
   },
   "file_extension": ".py",
   "mimetype": "text/x-python",
   "name": "python",
   "nbconvert_exporter": "python",
   "pygments_lexer": "ipython3",
   "version": "3.12.5"
  }
 },
 "nbformat": 4,
 "nbformat_minor": 2
}
